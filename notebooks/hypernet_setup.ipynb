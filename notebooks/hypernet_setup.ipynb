{
 "cells": [
  {
   "cell_type": "code",
   "execution_count": 43,
   "metadata": {},
   "outputs": [],
   "source": [
    "import torch\n",
    "import functorch\n",
    "import torchvision\n",
    "import numpy as np\n",
    "\n",
    "import matplotlib.pyplot as plt\n",
    "%matplotlib inline"
   ]
  },
  {
   "cell_type": "code",
   "execution_count": 51,
   "metadata": {},
   "outputs": [],
   "source": [
    "batch_size = 64\n",
    "\n",
    "train_loader = torch.utils.data.DataLoader(\n",
    "    torchvision.datasets.MNIST(\n",
    "        \"../data\",\n",
    "        train=True,\n",
    "        download=True,\n",
    "        transform=torchvision.transforms.ToTensor(),\n",
    "    ),\n",
    "    batch_size=batch_size,\n",
    "    shuffle=True,\n",
    ")\n",
    "\n",
    "test_loader = torch.utils.data.DataLoader(\n",
    "    torchvision.datasets.MNIST(\n",
    "        \"../data\",\n",
    "        train=False,\n",
    "        download=True,\n",
    "        transform=torchvision.transforms.ToTensor(),\n",
    "    ),\n",
    "    batch_size=batch_size,\n",
    "    shuffle=True,\n",
    ")"
   ]
  },
  {
   "cell_type": "code",
   "execution_count": 52,
   "metadata": {},
   "outputs": [
    {
     "data": {
      "text/plain": [
       "(torch.Size([64, 1, 28, 28]), torch.Size([64]))"
      ]
     },
     "execution_count": 52,
     "metadata": {},
     "output_type": "execute_result"
    }
   ],
   "source": [
    "x, y = next(iter(train_loader))\n",
    "x.shape, y.shape"
   ]
  },
  {
   "cell_type": "code",
   "execution_count": 39,
   "metadata": {},
   "outputs": [],
   "source": [
    "class PrimaryNet(torch.nn.Module):\n",
    "    def __init__(self, hypnet: torch.nn.Module, primary: torch.nn.Module):\n",
    "        super(PrimaryNet, self).__init__()\n",
    "\n",
    "        p_func, p_params = functorch.make_functional(primary)\n",
    "\n",
    "        self.p_shapes = [p.shape for p in p_params]\n",
    "        self.p_offsets = np.array(\n",
    "            [0, *np.cumsum([p.numel() for p in p_params])])\n",
    "\n",
    "        self.primary_func = functorch.vmap(p_func)\n",
    "        self.hypnet = hypnet\n",
    "\n",
    "    def forward(self, z, x):\n",
    "        # z is embedding, x is primary input\n",
    "        params = self.hypnet(z)\n",
    "        params_lst = []\n",
    "        for i, shape in enumerate(self.p_shapes):\n",
    "            j0, j1 = self.p_offsets[i], self.p_offsets[i + 1]\n",
    "            params_lst.append(params[..., j0:j1].reshape(-1, *shape))\n",
    "\n",
    "        h = self.primary_func(params_lst, x)\n",
    "        return h, self.primary_func"
   ]
  },
  {
   "cell_type": "code",
   "execution_count": 40,
   "metadata": {},
   "outputs": [
    {
     "name": "stderr",
     "output_type": "stream",
     "text": [
      "/gscratch/rao/aresf/miniconda3/envs/torch/lib/python3.11/site-packages/torch/_functorch/deprecated.py:100: UserWarning: We've integrated functorch into PyTorch. As the final step of the integration, functorch.make_functional is deprecated as of PyTorch 2.0 and will be deleted in a future version of PyTorch >= 2.3. Please use torch.func.functional_call instead; see the PyTorch 2.0 release notes and/or the torch.func migration guide for more details https://pytorch.org/docs/master/func.migrating.html\n",
      "  warn_deprecated('make_functional', 'torch.func.functional_call')\n",
      "/gscratch/rao/aresf/miniconda3/envs/torch/lib/python3.11/site-packages/torch/_functorch/deprecated.py:61: UserWarning: We've integrated functorch into PyTorch. As the final step of the integration, functorch.vmap is deprecated as of PyTorch 2.0 and will be deleted in a future version of PyTorch >= 2.3. Please use torch.vmap instead; see the PyTorch 2.0 release notes and/or the torch.func migration guide for more details https://pytorch.org/docs/master/func.migrating.html\n",
      "  warn_deprecated('vmap', 'torch.vmap')\n"
     ]
    }
   ],
   "source": [
    "primary = torch.nn.Sequential(\n",
    "    torch.nn.Linear(2, 100), torch.nn.ReLU(), torch.nn.Linear(100, 5)\n",
    ")\n",
    "\n",
    "_, primary_params = functorch.make_functional(primary)\n",
    "n_primary_params = sum([p.numel() for p in primary_params])\n",
    "\n",
    "hypnet = torch.nn.Sequential(\n",
    "    torch.nn.Linear(3, 100), torch.nn.ReLU(), torch.nn.Linear(100, n_primary_params)\n",
    ")\n",
    "\n",
    "module = PrimaryNet(hypnet, primary)"
   ]
  },
  {
   "cell_type": "code",
   "execution_count": 36,
   "metadata": {},
   "outputs": [],
   "source": [
    "inp = torch.randn(64, 3)\n",
    "x = torch.randn(64, 2)"
   ]
  },
  {
   "cell_type": "code",
   "execution_count": 41,
   "metadata": {},
   "outputs": [
    {
     "data": {
      "text/plain": [
       "torch.Size([64, 5])"
      ]
     },
     "execution_count": 41,
     "metadata": {},
     "output_type": "execute_result"
    }
   ],
   "source": [
    "out, pn = module(inp, x)\n",
    "out.shape"
   ]
  },
  {
   "cell_type": "code",
   "execution_count": 42,
   "metadata": {},
   "outputs": [
    {
     "data": {
      "text/plain": [
       "<function torch._functorch.apis.vmap.<locals>.wrapped(*args, **kwargs)>"
      ]
     },
     "execution_count": 42,
     "metadata": {},
     "output_type": "execute_result"
    }
   ],
   "source": []
  }
 ],
 "metadata": {
  "kernelspec": {
   "display_name": "torch",
   "language": "python",
   "name": "python3"
  },
  "language_info": {
   "codemirror_mode": {
    "name": "ipython",
    "version": 3
   },
   "file_extension": ".py",
   "mimetype": "text/x-python",
   "name": "python",
   "nbconvert_exporter": "python",
   "pygments_lexer": "ipython3",
   "version": "3.11.5"
  }
 },
 "nbformat": 4,
 "nbformat_minor": 2
}
